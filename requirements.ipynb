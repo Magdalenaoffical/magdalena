{
 "cells": [
  {
   "cell_type": "raw",
   "metadata": {},
   "source": []
  },
  {
   "cell_type": "code",
   "execution_count": 6,
   "metadata": {},
   "outputs": [
    {
     "name": "stdout",
     "output_type": "stream",
     "text": [
      "Enter value in kilometers:6\n",
      "6.00 kilometers is equal to  3.73 miles\n"
     ]
    }
   ],
   "source": [
    "#1\n",
    "kilometers=float(input(\"Enter value in kilometers:\"))\n",
    "conv_fac= 0.621371\n",
    "miles= kilometers * conv_fac\n",
    "print('%0.2f kilometers is equal to % 0.2f miles' %(kilometers,miles))"
   ]
  },
  {
   "cell_type": "code",
   "execution_count": 1,
   "metadata": {},
   "outputs": [
    {
     "name": "stderr",
     "output_type": "stream",
     "text": [
      "2022-02-04 15:20:25.337 \n",
      "  \u001b[33m\u001b[1mWarning:\u001b[0m to view this Streamlit app on a browser, run it with the following\n",
      "  command:\n",
      "\n",
      "    streamlit run C:\\Users\\PC\\anaconda3\\lib\\site-packages\\ipykernel_launcher.py [ARGUMENTS]\n"
     ]
    }
   ],
   "source": [
    "#3\n",
    "import streamlit as st\n",
    "st.header(\"celcius to fahrenheit\")\n",
    "st.write(\"temperature conversion\")\n",
    "c= st.number_input(\"input the temperature in celcius\")\n",
    "st.write(\"temperature in fahrenheit is \", (c*9/5)+32)"
   ]
  },
  {
   "cell_type": "code",
   "execution_count": 5,
   "metadata": {},
   "outputs": [
    {
     "name": "stdout",
     "output_type": "stream",
     "text": [
      "52.9\n",
      "0.0\n"
     ]
    }
   ],
   "source": [
    "#2\n",
    "import time \n",
    "start =time.time()\n",
    "print(23*2.3)\n",
    "end = time.time()\n",
    "print(end-start)\n"
   ]
  },
  {
   "cell_type": "code",
   "execution_count": 6,
   "metadata": {},
   "outputs": [
    {
     "name": "stdout",
     "output_type": "stream",
     "text": [
      "52.9\n",
      "0.00010429999997541017\n"
     ]
    }
   ],
   "source": [
    "from timeit import default_timer as timer\n",
    "start =timer()\n",
    "print(23*2.3)\n",
    "end = timer()\n",
    "print(end-start)"
   ]
  },
  {
   "cell_type": "code",
   "execution_count": 13,
   "metadata": {},
   "outputs": [
    {
     "ename": "SyntaxError",
     "evalue": "invalid syntax (<ipython-input-13-90623616ab4b>, line 4)",
     "output_type": "error",
     "traceback": [
      "\u001b[1;36m  File \u001b[1;32m\"<ipython-input-13-90623616ab4b>\"\u001b[1;36m, line \u001b[1;32m4\u001b[0m\n\u001b[1;33m    print(m)(9.8m/s29)(6.37*106m)2/ (6.673*10-11 Nm2/kg2)\u001b[0m\n\u001b[1;37m                ^\u001b[0m\n\u001b[1;31mSyntaxError\u001b[0m\u001b[1;31m:\u001b[0m invalid syntax\n"
     ]
    }
   ],
   "source": [
    "\n",
    "F=Gmlm2/r2\n",
    "Gm/r2=g\n",
    "m=gr2/G\n",
    "m=(9.8m/s29)(6.37*106m)2/ (6.673*10-11 Nm2/kg2)\n"
   ]
  },
  {
   "cell_type": "code",
   "execution_count": null,
   "metadata": {},
   "outputs": [],
   "source": []
  }
 ],
 "metadata": {
  "kernelspec": {
   "display_name": "Python 3",
   "language": "python",
   "name": "python3"
  },
  "language_info": {
   "codemirror_mode": {
    "name": "ipython",
    "version": 3
   },
   "file_extension": ".py",
   "mimetype": "text/x-python",
   "name": "python",
   "nbconvert_exporter": "python",
   "pygments_lexer": "ipython3",
   "version": "3.8.5"
  }
 },
 "nbformat": 4,
 "nbformat_minor": 4
}
